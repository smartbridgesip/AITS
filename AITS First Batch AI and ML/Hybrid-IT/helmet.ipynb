{
 "cells": [
  {
   "cell_type": "code",
   "execution_count": 1,
   "metadata": {},
   "outputs": [
    {
     "name": "stderr",
     "output_type": "stream",
     "text": [
      "Using TensorFlow backend.\n"
     ]
    }
   ],
   "source": [
    "from keras.models import Sequential\n",
    "from keras.layers import Dense\n",
    "from keras.layers import Conv2D\n",
    "from keras.layers import MaxPooling2D\n",
    "from keras.layers import Flatten"
   ]
  },
  {
   "cell_type": "code",
   "execution_count": 2,
   "metadata": {},
   "outputs": [],
   "source": [
    "model=Sequential()"
   ]
  },
  {
   "cell_type": "code",
   "execution_count": 3,
   "metadata": {},
   "outputs": [
    {
     "name": "stdout",
     "output_type": "stream",
     "text": [
      "WARNING:tensorflow:From C:\\Users\\Dell\\Anaconda3\\ancondasoftware\\lib\\site-packages\\tensorflow\\python\\framework\\op_def_library.py:263: colocate_with (from tensorflow.python.framework.ops) is deprecated and will be removed in a future version.\n",
      "Instructions for updating:\n",
      "Colocations handled automatically by placer.\n"
     ]
    },
    {
     "name": "stderr",
     "output_type": "stream",
     "text": [
      "C:\\Users\\Dell\\Anaconda3\\ancondasoftware\\lib\\site-packages\\ipykernel_launcher.py:1: UserWarning: Update your `Conv2D` call to the Keras 2 API: `Conv2D(32, (3, 3), input_shape=(64, 64, 3..., activation=\"relu\")`\n",
      "  \"\"\"Entry point for launching an IPython kernel.\n"
     ]
    }
   ],
   "source": [
    "model.add(Conv2D(32,3,3,input_shape=(64,64,3),activation='relu'))"
   ]
  },
  {
   "cell_type": "code",
   "execution_count": 4,
   "metadata": {},
   "outputs": [],
   "source": [
    "model.add(MaxPooling2D(pool_size=(2,2)))"
   ]
  },
  {
   "cell_type": "code",
   "execution_count": 5,
   "metadata": {},
   "outputs": [],
   "source": [
    "model.add(Flatten())"
   ]
  },
  {
   "cell_type": "code",
   "execution_count": 6,
   "metadata": {},
   "outputs": [
    {
     "name": "stderr",
     "output_type": "stream",
     "text": [
      "C:\\Users\\Dell\\Anaconda3\\ancondasoftware\\lib\\site-packages\\ipykernel_launcher.py:1: UserWarning: Update your `Dense` call to the Keras 2 API: `Dense(activation=\"relu\", units=128, kernel_initializer=\"random_uniform\")`\n",
      "  \"\"\"Entry point for launching an IPython kernel.\n"
     ]
    }
   ],
   "source": [
    "model.add(Dense(output_dim=128,activation='relu',init='random_uniform'))"
   ]
  },
  {
   "cell_type": "code",
   "execution_count": 7,
   "metadata": {},
   "outputs": [
    {
     "name": "stderr",
     "output_type": "stream",
     "text": [
      "C:\\Users\\Dell\\Anaconda3\\ancondasoftware\\lib\\site-packages\\ipykernel_launcher.py:1: UserWarning: Update your `Dense` call to the Keras 2 API: `Dense(activation=\"sigmoid\", units=1, kernel_initializer=\"random_uniform\")`\n",
      "  \"\"\"Entry point for launching an IPython kernel.\n"
     ]
    }
   ],
   "source": [
    "model.add(Dense(output_dim=1,activation='sigmoid',init='random_uniform'))"
   ]
  },
  {
   "cell_type": "code",
   "execution_count": 8,
   "metadata": {},
   "outputs": [],
   "source": [
    "model.compile(optimizer='adam',loss='binary_crossentropy',metrics=['accuracy'])"
   ]
  },
  {
   "cell_type": "code",
   "execution_count": 9,
   "metadata": {},
   "outputs": [],
   "source": [
    "from keras.preprocessing.image import ImageDataGenerator"
   ]
  },
  {
   "cell_type": "code",
   "execution_count": 10,
   "metadata": {},
   "outputs": [],
   "source": [
    "train_datagen=ImageDataGenerator(rescale=1./255,shear_range=0.2,zoom_range=0.2,horizontal_flip=True)\n",
    "train_datagen=ImageDataGenerator(rescale=1./255)"
   ]
  },
  {
   "cell_type": "code",
   "execution_count": 11,
   "metadata": {},
   "outputs": [
    {
     "name": "stdout",
     "output_type": "stream",
     "text": [
      "Found 270 images belonging to 2 classes.\n",
      "Found 120 images belonging to 2 classes.\n"
     ]
    }
   ],
   "source": [
    "x_train=train_datagen.flow_from_directory(r'C:\\Users\\Dell\\Desktop\\dataset AI\\training_set',target_size=(64,64),batch_size=32,class_mode='binary')\n",
    "x_test=train_datagen.flow_from_directory(r'C:\\Users\\Dell\\Desktop\\dataset AI\\test_set',target_size=(64,64),batch_size=32,class_mode='binary')"
   ]
  },
  {
   "cell_type": "code",
   "execution_count": 12,
   "metadata": {},
   "outputs": [
    {
     "name": "stdout",
     "output_type": "stream",
     "text": [
      "{'helmets': 0, 'without helmets': 1}\n"
     ]
    }
   ],
   "source": [
    "print(x_train.class_indices)"
   ]
  },
  {
   "cell_type": "code",
   "execution_count": 13,
   "metadata": {},
   "outputs": [
    {
     "name": "stderr",
     "output_type": "stream",
     "text": [
      "C:\\Users\\Dell\\Anaconda3\\ancondasoftware\\lib\\site-packages\\ipykernel_launcher.py:1: UserWarning: The semantics of the Keras 2 argument `steps_per_epoch` is not the same as the Keras 1 argument `samples_per_epoch`. `steps_per_epoch` is the number of batches to draw from the generator at each epoch. Basically steps_per_epoch = samples_per_epoch/batch_size. Similarly `nb_val_samples`->`validation_steps` and `val_samples`->`steps` arguments have changed. Update your method calls accordingly.\n",
      "  \"\"\"Entry point for launching an IPython kernel.\n",
      "C:\\Users\\Dell\\Anaconda3\\ancondasoftware\\lib\\site-packages\\ipykernel_launcher.py:1: UserWarning: Update your `fit_generator` call to the Keras 2 API: `fit_generator(<keras_pre..., epochs=50, validation_data=<keras_pre..., steps_per_epoch=12, validation_steps=120)`\n",
      "  \"\"\"Entry point for launching an IPython kernel.\n"
     ]
    },
    {
     "name": "stdout",
     "output_type": "stream",
     "text": [
      "WARNING:tensorflow:From C:\\Users\\Dell\\Anaconda3\\ancondasoftware\\lib\\site-packages\\tensorflow\\python\\ops\\math_ops.py:3066: to_int32 (from tensorflow.python.ops.math_ops) is deprecated and will be removed in a future version.\n",
      "Instructions for updating:\n",
      "Use tf.cast instead.\n",
      "Epoch 1/50\n",
      "12/12 [==============================] - 16s 1s/step - loss: 0.8362 - acc: 0.4912 - val_loss: 0.7332 - val_acc: 0.5000\n",
      "Epoch 2/50\n",
      "12/12 [==============================] - 10s 863ms/step - loss: 0.7010 - acc: 0.4952 - val_loss: 0.6941 - val_acc: 0.5083\n",
      "Epoch 3/50\n",
      "12/12 [==============================] - 10s 854ms/step - loss: 0.6616 - acc: 0.6715 - val_loss: 0.6941 - val_acc: 0.5083\n",
      "Epoch 4/50\n",
      "12/12 [==============================] - 10s 843ms/step - loss: 0.6350 - acc: 0.6347 - val_loss: 0.7179 - val_acc: 0.5000\n",
      "Epoch 5/50\n",
      "12/12 [==============================] - 10s 814ms/step - loss: 0.5762 - acc: 0.7664 - val_loss: 0.7235 - val_acc: 0.5083\n",
      "Epoch 6/50\n",
      "12/12 [==============================] - 10s 863ms/step - loss: 0.5161 - acc: 0.8070 - val_loss: 0.7507 - val_acc: 0.5333\n",
      "Epoch 7/50\n",
      "12/12 [==============================] - 10s 849ms/step - loss: 0.4667 - acc: 0.8282 - val_loss: 0.7716 - val_acc: 0.5083\n",
      "Epoch 8/50\n",
      "12/12 [==============================] - 10s 845ms/step - loss: 0.3619 - acc: 0.9242 - val_loss: 0.7997 - val_acc: 0.5083\n",
      "Epoch 9/50\n",
      "12/12 [==============================] - 10s 875ms/step - loss: 0.2853 - acc: 0.9518 - val_loss: 0.9865 - val_acc: 0.5083\n",
      "Epoch 10/50\n",
      "12/12 [==============================] - 11s 885ms/step - loss: 0.2312 - acc: 0.9686 - val_loss: 0.8769 - val_acc: 0.5000\n",
      "Epoch 11/50\n",
      "12/12 [==============================] - 10s 855ms/step - loss: 0.1553 - acc: 0.9895 - val_loss: 0.9360 - val_acc: 0.4917\n",
      "Epoch 12/50\n",
      "12/12 [==============================] - 10s 851ms/step - loss: 0.1145 - acc: 0.9974 - val_loss: 0.9980 - val_acc: 0.5000\n",
      "Epoch 13/50\n",
      "12/12 [==============================] - 10s 858ms/step - loss: 0.0795 - acc: 1.0000 - val_loss: 1.0294 - val_acc: 0.5000\n",
      "Epoch 14/50\n",
      "12/12 [==============================] - 10s 830ms/step - loss: 0.0550 - acc: 1.0000 - val_loss: 1.0841 - val_acc: 0.5167\n",
      "Epoch 15/50\n",
      "12/12 [==============================] - 10s 830ms/step - loss: 0.0405 - acc: 1.0000 - val_loss: 1.0797 - val_acc: 0.5333\n",
      "Epoch 16/50\n",
      "12/12 [==============================] - 10s 826ms/step - loss: 0.0305 - acc: 1.0000 - val_loss: 1.1424 - val_acc: 0.5333\n",
      "Epoch 17/50\n",
      "12/12 [==============================] - 10s 831ms/step - loss: 0.0261 - acc: 1.0000 - val_loss: 1.2107 - val_acc: 0.5167\n",
      "Epoch 18/50\n",
      "12/12 [==============================] - 10s 828ms/step - loss: 0.0204 - acc: 1.0000 - val_loss: 1.2285 - val_acc: 0.5333\n",
      "Epoch 19/50\n",
      "12/12 [==============================] - 10s 856ms/step - loss: 0.0162 - acc: 1.0000 - val_loss: 1.2405 - val_acc: 0.5250\n",
      "Epoch 20/50\n",
      "12/12 [==============================] - 10s 837ms/step - loss: 0.0144 - acc: 1.0000 - val_loss: 1.3130 - val_acc: 0.5250\n",
      "Epoch 21/50\n",
      "12/12 [==============================] - 10s 824ms/step - loss: 0.0127 - acc: 1.0000 - val_loss: 1.4415 - val_acc: 0.5083\n",
      "Epoch 22/50\n",
      "12/12 [==============================] - 10s 830ms/step - loss: 0.0100 - acc: 1.0000 - val_loss: 1.4551 - val_acc: 0.5167\n",
      "Epoch 23/50\n",
      "12/12 [==============================] - 10s 832ms/step - loss: 0.0096 - acc: 1.0000 - val_loss: 1.3974 - val_acc: 0.5167\n",
      "Epoch 24/50\n",
      "12/12 [==============================] - 10s 829ms/step - loss: 0.0083 - acc: 1.0000 - val_loss: 1.4445 - val_acc: 0.5167\n",
      "Epoch 25/50\n",
      "12/12 [==============================] - 10s 840ms/step - loss: 0.0066 - acc: 1.0000 - val_loss: 1.4090 - val_acc: 0.5250\n",
      "Epoch 26/50\n",
      "12/12 [==============================] - 11s 939ms/step - loss: 0.0061 - acc: 1.0000 - val_loss: 1.4445 - val_acc: 0.5250\n",
      "Epoch 27/50\n",
      "12/12 [==============================] - 10s 868ms/step - loss: 0.0051 - acc: 1.0000 - val_loss: 1.5354 - val_acc: 0.5167\n",
      "Epoch 28/50\n",
      "12/12 [==============================] - 10s 834ms/step - loss: 0.0049 - acc: 1.0000 - val_loss: 1.4609 - val_acc: 0.5250\n",
      "Epoch 29/50\n",
      "12/12 [==============================] - 10s 836ms/step - loss: 0.0046 - acc: 1.0000 - val_loss: 1.4953 - val_acc: 0.5250\n",
      "Epoch 30/50\n",
      "12/12 [==============================] - 10s 833ms/step - loss: 0.0044 - acc: 1.0000 - val_loss: 1.4710 - val_acc: 0.5167\n",
      "Epoch 31/50\n",
      "12/12 [==============================] - 10s 846ms/step - loss: 0.0038 - acc: 1.0000 - val_loss: 1.5247 - val_acc: 0.5333\n",
      "Epoch 32/50\n",
      "12/12 [==============================] - 10s 838ms/step - loss: 0.0033 - acc: 1.0000 - val_loss: 1.5761 - val_acc: 0.5167\n",
      "Epoch 33/50\n",
      "12/12 [==============================] - 10s 849ms/step - loss: 0.0031 - acc: 1.0000 - val_loss: 1.5927 - val_acc: 0.5167\n",
      "Epoch 34/50\n",
      "12/12 [==============================] - 10s 871ms/step - loss: 0.0028 - acc: 1.0000 - val_loss: 1.5696 - val_acc: 0.5250\n",
      "Epoch 35/50\n",
      "12/12 [==============================] - 10s 835ms/step - loss: 0.0027 - acc: 1.0000 - val_loss: 1.5760 - val_acc: 0.5167\n",
      "Epoch 36/50\n",
      "12/12 [==============================] - 10s 826ms/step - loss: 0.0026 - acc: 1.0000 - val_loss: 1.6221 - val_acc: 0.5167\n",
      "Epoch 37/50\n",
      "12/12 [==============================] - 10s 824ms/step - loss: 0.0024 - acc: 1.0000 - val_loss: 1.5892 - val_acc: 0.5250\n",
      "Epoch 38/50\n",
      "12/12 [==============================] - 10s 812ms/step - loss: 0.0023 - acc: 1.0000 - val_loss: 1.6204 - val_acc: 0.5250\n",
      "Epoch 39/50\n",
      "12/12 [==============================] - 10s 828ms/step - loss: 0.0020 - acc: 1.0000 - val_loss: 1.6535 - val_acc: 0.5167\n",
      "Epoch 40/50\n",
      "12/12 [==============================] - 10s 841ms/step - loss: 0.0020 - acc: 1.0000 - val_loss: 1.6722 - val_acc: 0.5167\n",
      "Epoch 41/50\n",
      "12/12 [==============================] - 10s 826ms/step - loss: 0.0019 - acc: 1.0000 - val_loss: 1.6907 - val_acc: 0.5167\n",
      "Epoch 42/50\n",
      "12/12 [==============================] - 10s 827ms/step - loss: 0.0017 - acc: 1.0000 - val_loss: 1.6998 - val_acc: 0.5167\n",
      "Epoch 43/50\n",
      "12/12 [==============================] - 10s 824ms/step - loss: 0.0017 - acc: 1.0000 - val_loss: 1.7260 - val_acc: 0.5167\n",
      "Epoch 44/50\n",
      "12/12 [==============================] - 10s 824ms/step - loss: 0.0015 - acc: 1.0000 - val_loss: 1.6959 - val_acc: 0.5250\n",
      "Epoch 45/50\n",
      "12/12 [==============================] - 10s 832ms/step - loss: 0.0015 - acc: 1.0000 - val_loss: 1.7309 - val_acc: 0.5167\n",
      "Epoch 46/50\n",
      "12/12 [==============================] - 10s 828ms/step - loss: 0.0014 - acc: 1.0000 - val_loss: 1.7550 - val_acc: 0.5167\n",
      "Epoch 47/50\n",
      "12/12 [==============================] - 10s 826ms/step - loss: 0.0013 - acc: 1.0000 - val_loss: 1.7366 - val_acc: 0.5167\n",
      "Epoch 48/50\n",
      "12/12 [==============================] - 10s 831ms/step - loss: 0.0013 - acc: 1.0000 - val_loss: 1.7730 - val_acc: 0.5167\n",
      "Epoch 49/50\n",
      "12/12 [==============================] - 10s 826ms/step - loss: 0.0012 - acc: 1.0000 - val_loss: 1.7248 - val_acc: 0.5250\n",
      "Epoch 50/50\n",
      "12/12 [==============================] - 10s 823ms/step - loss: 0.0012 - acc: 1.0000 - val_loss: 1.7749 - val_acc: 0.5167\n"
     ]
    },
    {
     "data": {
      "text/plain": [
       "<keras.callbacks.History at 0x1b917d996a0>"
      ]
     },
     "execution_count": 13,
     "metadata": {},
     "output_type": "execute_result"
    }
   ],
   "source": [
    "model.fit_generator(x_train,samples_per_epoch=390,epochs=50,validation_data=x_test,nb_val_samples=120)"
   ]
  },
  {
   "cell_type": "code",
   "execution_count": 14,
   "metadata": {},
   "outputs": [],
   "source": [
    "model.save('helmet.h5')"
   ]
  },
  {
   "cell_type": "code",
   "execution_count": 15,
   "metadata": {},
   "outputs": [],
   "source": [
    "from skimage.transform import resize\n",
    "def detect(frame):\n",
    "    try:\n",
    "        img= resize(frame,(64,64))\n",
    "        img = np.expand_dims(img,axis=0)\n",
    "        if(np.max(img)>1):\n",
    "            img =img/255.0\n",
    "        prediction =model.predict(img)\n",
    "        print (prediction)\n",
    "        prediction_class = model.predict_classes(img)\n",
    "        print(prediction_class)\n",
    "    except AttributeError:\n",
    "        print(\"shape not found\")"
   ]
  },
  {
   "cell_type": "code",
   "execution_count": 16,
   "metadata": {},
   "outputs": [
    {
     "name": "stderr",
     "output_type": "stream",
     "text": [
      "C:\\Users\\Dell\\Anaconda3\\ancondasoftware\\lib\\site-packages\\skimage\\transform\\_warps.py:105: UserWarning: The default mode, 'constant', will be changed to 'reflect' in skimage 0.15.\n",
      "  warn(\"The default mode, 'constant', will be changed to 'reflect' in \"\n",
      "C:\\Users\\Dell\\Anaconda3\\ancondasoftware\\lib\\site-packages\\skimage\\transform\\_warps.py:110: UserWarning: Anti-aliasing will be enabled by default in skimage 0.15 to avoid aliasing artifacts when down-sampling images.\n",
      "  warn(\"Anti-aliasing will be enabled by default in skimage 0.15 to \"\n"
     ]
    },
    {
     "name": "stdout",
     "output_type": "stream",
     "text": [
      "[[0.6289623]]\n",
      "[[1]]\n"
     ]
    }
   ],
   "source": [
    "from keras.models import load_model\n",
    "import numpy as np\n",
    "import cv2\n",
    "frame= cv2.imread(r'C:\\Users\\Dell\\Desktop\\dataset AI\\test_set\\without helmets\\5.jpg')\n",
    "data= detect(frame)"
   ]
  },
  {
   "cell_type": "code",
   "execution_count": null,
   "metadata": {},
   "outputs": [],
   "source": []
  }
 ],
 "metadata": {
  "kernelspec": {
   "display_name": "Python 3",
   "language": "python",
   "name": "python3"
  },
  "language_info": {
   "codemirror_mode": {
    "name": "ipython",
    "version": 3
   },
   "file_extension": ".py",
   "mimetype": "text/x-python",
   "name": "python",
   "nbconvert_exporter": "python",
   "pygments_lexer": "ipython3",
   "version": "3.7.1"
  }
 },
 "nbformat": 4,
 "nbformat_minor": 2
}
