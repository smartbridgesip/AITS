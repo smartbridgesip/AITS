{
 "cells": [
  {
   "cell_type": "code",
   "execution_count": 1,
   "metadata": {},
   "outputs": [
    {
     "name": "stderr",
     "output_type": "stream",
     "text": [
      "Using TensorFlow backend.\n"
     ]
    }
   ],
   "source": [
    "from keras.models import Sequential\n",
    "from keras.layers import Dense\n",
    "from keras.layers import Conv2D\n",
    "from keras.layers import MaxPooling2D\n",
    "from keras.layers import Flatten"
   ]
  },
  {
   "cell_type": "code",
   "execution_count": 2,
   "metadata": {},
   "outputs": [],
   "source": [
    "model = Sequential()"
   ]
  },
  {
   "cell_type": "code",
   "execution_count": 3,
   "metadata": {},
   "outputs": [
    {
     "name": "stderr",
     "output_type": "stream",
     "text": [
      "D:\\Anaconda3\\lib\\site-packages\\ipykernel_launcher.py:1: UserWarning: Update your `Conv2D` call to the Keras 2 API: `Conv2D(32, (3, 3), input_shape=(64, 64, 3..., activation=\"relu\")`\n",
      "  \"\"\"Entry point for launching an IPython kernel.\n"
     ]
    },
    {
     "name": "stdout",
     "output_type": "stream",
     "text": [
      "WARNING:tensorflow:From D:\\Anaconda3\\lib\\site-packages\\tensorflow\\python\\framework\\op_def_library.py:263: colocate_with (from tensorflow.python.framework.ops) is deprecated and will be removed in a future version.\n",
      "Instructions for updating:\n",
      "Colocations handled automatically by placer.\n"
     ]
    }
   ],
   "source": [
    "model.add(Conv2D(32, 3, 3, input_shape = (64, 64, 3), activation = 'relu'))"
   ]
  },
  {
   "cell_type": "code",
   "execution_count": 4,
   "metadata": {},
   "outputs": [],
   "source": [
    "model.add(MaxPooling2D(pool_size = (2, 2)))"
   ]
  },
  {
   "cell_type": "code",
   "execution_count": 5,
   "metadata": {},
   "outputs": [],
   "source": [
    "model.add(Flatten())"
   ]
  },
  {
   "cell_type": "code",
   "execution_count": 6,
   "metadata": {},
   "outputs": [
    {
     "name": "stderr",
     "output_type": "stream",
     "text": [
      "D:\\Anaconda3\\lib\\site-packages\\ipykernel_launcher.py:1: UserWarning: Update your `Dense` call to the Keras 2 API: `Dense(activation=\"relu\", units=128, kernel_initializer=\"random_uniform\")`\n",
      "  \"\"\"Entry point for launching an IPython kernel.\n"
     ]
    }
   ],
   "source": [
    "model.add(Dense(output_dim = 128, activation = 'relu', init = 'random_uniform'))"
   ]
  },
  {
   "cell_type": "code",
   "execution_count": 7,
   "metadata": {},
   "outputs": [
    {
     "name": "stderr",
     "output_type": "stream",
     "text": [
      "D:\\Anaconda3\\lib\\site-packages\\ipykernel_launcher.py:1: UserWarning: Update your `Dense` call to the Keras 2 API: `Dense(activation=\"sigmoid\", units=1, kernel_initializer=\"random_uniform\")`\n",
      "  \"\"\"Entry point for launching an IPython kernel.\n"
     ]
    }
   ],
   "source": [
    "model.add(Dense(output_dim = 1, activation = 'sigmoid', init = 'random_uniform'))"
   ]
  },
  {
   "cell_type": "code",
   "execution_count": 8,
   "metadata": {},
   "outputs": [],
   "source": [
    "model.compile(optimizer = 'adam', loss = 'binary_crossentropy', metrics = ['accuracy'])"
   ]
  },
  {
   "cell_type": "code",
   "execution_count": 9,
   "metadata": {},
   "outputs": [],
   "source": [
    "from keras.preprocessing.image import ImageDataGenerator"
   ]
  },
  {
   "cell_type": "code",
   "execution_count": 10,
   "metadata": {},
   "outputs": [],
   "source": [
    "train_datagen = ImageDataGenerator(rescale = 1./255, shear_range = 0.2, horizontal_flip = True)\n",
    "test_datagen = ImageDataGenerator(rescale = 1./255)"
   ]
  },
  {
   "cell_type": "code",
   "execution_count": 11,
   "metadata": {},
   "outputs": [
    {
     "name": "stdout",
     "output_type": "stream",
     "text": [
      "Found 1040 images belonging to 2 classes.\n",
      "Found 260 images belonging to 2 classes.\n"
     ]
    }
   ],
   "source": [
    "x_train = train_datagen.flow_from_directory(r'C:\\Users\\admin\\Desktop\\dataset\\training_set', target_size = (64, 64), batch_size = 32, class_mode = 'binary')\n",
    "x_test = train_datagen.flow_from_directory(r'C:\\Users\\admin\\Desktop\\dataset\\test_set', target_size = (64, 64), batch_size = 32, class_mode = 'binary')"
   ]
  },
  {
   "cell_type": "code",
   "execution_count": 12,
   "metadata": {},
   "outputs": [
    {
     "name": "stdout",
     "output_type": "stream",
     "text": [
      "{'allowed': 0, 'not_allowed': 1}\n"
     ]
    }
   ],
   "source": [
    "print(x_train.class_indices)"
   ]
  },
  {
   "cell_type": "code",
   "execution_count": 13,
   "metadata": {
    "scrolled": false
   },
   "outputs": [
    {
     "name": "stdout",
     "output_type": "stream",
     "text": [
      "WARNING:tensorflow:From D:\\Anaconda3\\lib\\site-packages\\tensorflow\\python\\ops\\math_ops.py:3066: to_int32 (from tensorflow.python.ops.math_ops) is deprecated and will be removed in a future version.\n",
      "Instructions for updating:\n",
      "Use tf.cast instead.\n"
     ]
    },
    {
     "name": "stderr",
     "output_type": "stream",
     "text": [
      "D:\\Anaconda3\\lib\\site-packages\\ipykernel_launcher.py:1: UserWarning: The semantics of the Keras 2 argument `steps_per_epoch` is not the same as the Keras 1 argument `samples_per_epoch`. `steps_per_epoch` is the number of batches to draw from the generator at each epoch. Basically steps_per_epoch = samples_per_epoch/batch_size. Similarly `nb_val_samples`->`validation_steps` and `val_samples`->`steps` arguments have changed. Update your method calls accordingly.\n",
      "  \"\"\"Entry point for launching an IPython kernel.\n",
      "D:\\Anaconda3\\lib\\site-packages\\ipykernel_launcher.py:1: UserWarning: Update your `fit_generator` call to the Keras 2 API: `fit_generator(<keras_pre..., epochs=100, validation_data=<keras_pre..., steps_per_epoch=32, validation_steps=260)`\n",
      "  \"\"\"Entry point for launching an IPython kernel.\n"
     ]
    },
    {
     "name": "stdout",
     "output_type": "stream",
     "text": [
      "Epoch 1/100\n",
      "32/32 [==============================] - 17s 539ms/step - loss: 0.2884 - acc: 0.8828 - val_loss: 0.0924 - val_acc: 0.9627\n",
      "Epoch 2/100\n",
      "32/32 [==============================] - 14s 452ms/step - loss: 0.0575 - acc: 0.9853 - val_loss: 0.0424 - val_acc: 0.9875\n",
      "Epoch 3/100\n",
      "32/32 [==============================] - 14s 451ms/step - loss: 0.0305 - acc: 0.9951 - val_loss: 0.0383 - val_acc: 0.9828\n",
      "Epoch 4/100\n",
      "32/32 [==============================] - 14s 450ms/step - loss: 0.0204 - acc: 0.9932 - val_loss: 0.0391 - val_acc: 0.9819\n",
      "Epoch 5/100\n",
      "32/32 [==============================] - 14s 452ms/step - loss: 0.0218 - acc: 0.9951 - val_loss: 0.0462 - val_acc: 0.9816\n",
      "Epoch 6/100\n",
      "32/32 [==============================] - 14s 449ms/step - loss: 0.0076 - acc: 1.0000 - val_loss: 0.0142 - val_acc: 0.9960\n",
      "Epoch 7/100\n",
      "32/32 [==============================] - 14s 450ms/step - loss: 0.0180 - acc: 0.9941 - val_loss: 0.1323 - val_acc: 0.9455\n",
      "Epoch 8/100\n",
      "32/32 [==============================] - 14s 450ms/step - loss: 0.0067 - acc: 0.9990 - val_loss: 0.0066 - val_acc: 0.9999\n",
      "Epoch 9/100\n",
      "32/32 [==============================] - 14s 449ms/step - loss: 0.0024 - acc: 1.0000 - val_loss: 0.0055 - val_acc: 1.0000\n",
      "Epoch 10/100\n",
      "32/32 [==============================] - 14s 452ms/step - loss: 0.0014 - acc: 1.0000 - val_loss: 0.0045 - val_acc: 1.0000\n",
      "Epoch 11/100\n",
      "32/32 [==============================] - 14s 452ms/step - loss: 0.0012 - acc: 1.0000 - val_loss: 0.0077 - val_acc: 0.9961\n",
      "Epoch 12/100\n",
      "32/32 [==============================] - 14s 452ms/step - loss: 0.0024 - acc: 1.0000 - val_loss: 0.0108 - val_acc: 0.9961\n",
      "Epoch 13/100\n",
      "32/32 [==============================] - 14s 449ms/step - loss: 8.6256e-04 - acc: 1.0000 - val_loss: 0.0090 - val_acc: 0.9963\n",
      "Epoch 14/100\n",
      "32/32 [==============================] - 15s 454ms/step - loss: 6.2297e-04 - acc: 1.0000 - val_loss: 0.0066 - val_acc: 0.9968\n",
      "Epoch 15/100\n",
      "32/32 [==============================] - 14s 449ms/step - loss: 5.6174e-04 - acc: 1.0000 - val_loss: 0.0086 - val_acc: 0.9963\n",
      "Epoch 16/100\n",
      "32/32 [==============================] - 14s 450ms/step - loss: 4.2426e-04 - acc: 1.0000 - val_loss: 0.0077 - val_acc: 0.9960\n",
      "Epoch 17/100\n",
      "32/32 [==============================] - 14s 449ms/step - loss: 3.7000e-04 - acc: 1.0000 - val_loss: 0.0040 - val_acc: 0.9988\n",
      "Epoch 18/100\n",
      "32/32 [==============================] - 14s 450ms/step - loss: 3.4688e-04 - acc: 1.0000 - val_loss: 0.0051 - val_acc: 0.9983\n",
      "Epoch 19/100\n",
      "32/32 [==============================] - 14s 451ms/step - loss: 3.1288e-04 - acc: 1.0000 - val_loss: 0.0045 - val_acc: 0.9981\n",
      "Epoch 20/100\n",
      "32/32 [==============================] - 15s 457ms/step - loss: 2.9856e-04 - acc: 1.0000 - val_loss: 0.0039 - val_acc: 1.0000\n",
      "Epoch 21/100\n",
      "32/32 [==============================] - 14s 451ms/step - loss: 2.4726e-04 - acc: 1.0000 - val_loss: 0.0044 - val_acc: 0.9987\n",
      "Epoch 22/100\n",
      "32/32 [==============================] - 14s 448ms/step - loss: 2.4919e-04 - acc: 1.0000 - val_loss: 0.0070 - val_acc: 0.9961\n",
      "Epoch 23/100\n",
      "32/32 [==============================] - 14s 448ms/step - loss: 2.0004e-04 - acc: 1.0000 - val_loss: 0.0048 - val_acc: 0.9979\n",
      "Epoch 24/100\n",
      "32/32 [==============================] - 14s 450ms/step - loss: 1.4940e-04 - acc: 1.0000 - val_loss: 0.0058 - val_acc: 0.9960\n",
      "Epoch 25/100\n",
      "32/32 [==============================] - 14s 450ms/step - loss: 1.8832e-04 - acc: 1.0000 - val_loss: 0.0045 - val_acc: 0.9980\n",
      "Epoch 26/100\n",
      "32/32 [==============================] - 14s 450ms/step - loss: 1.7559e-04 - acc: 1.0000 - val_loss: 0.0055 - val_acc: 0.9976\n",
      "Epoch 27/100\n",
      "32/32 [==============================] - 14s 451ms/step - loss: 1.3069e-04 - acc: 1.0000 - val_loss: 0.0048 - val_acc: 0.9976\n",
      "Epoch 28/100\n",
      "32/32 [==============================] - 14s 451ms/step - loss: 1.2923e-04 - acc: 1.0000 - val_loss: 0.0055 - val_acc: 0.9972\n",
      "Epoch 29/100\n",
      "32/32 [==============================] - 14s 451ms/step - loss: 1.4698e-04 - acc: 1.0000 - val_loss: 0.0044 - val_acc: 0.9985\n",
      "Epoch 30/100\n",
      "32/32 [==============================] - 14s 451ms/step - loss: 1.3483e-04 - acc: 1.0000 - val_loss: 0.0051 - val_acc: 0.9984\n",
      "Epoch 31/100\n",
      "32/32 [==============================] - 14s 449ms/step - loss: 1.0431e-04 - acc: 1.0000 - val_loss: 0.0059 - val_acc: 0.9976\n",
      "Epoch 32/100\n",
      "32/32 [==============================] - 14s 450ms/step - loss: 1.0148e-04 - acc: 1.0000 - val_loss: 0.0052 - val_acc: 0.9973\n",
      "Epoch 33/100\n",
      "32/32 [==============================] - 14s 450ms/step - loss: 1.0146e-04 - acc: 1.0000 - val_loss: 0.0050 - val_acc: 0.9979\n",
      "Epoch 34/100\n",
      "32/32 [==============================] - 14s 452ms/step - loss: 8.8512e-05 - acc: 1.0000 - val_loss: 0.0045 - val_acc: 0.9976\n",
      "Epoch 35/100\n",
      "32/32 [==============================] - 14s 453ms/step - loss: 8.6943e-05 - acc: 1.0000 - val_loss: 0.0065 - val_acc: 0.9961\n",
      "Epoch 36/100\n",
      "32/32 [==============================] - 14s 451ms/step - loss: 8.0966e-05 - acc: 1.0000 - val_loss: 0.0046 - val_acc: 0.9980\n",
      "Epoch 37/100\n",
      "32/32 [==============================] - 15s 455ms/step - loss: 7.5458e-05 - acc: 1.0000 - val_loss: 0.0050 - val_acc: 0.9976\n",
      "Epoch 38/100\n",
      "32/32 [==============================] - 14s 452ms/step - loss: 7.3872e-05 - acc: 1.0000 - val_loss: 0.0056 - val_acc: 0.9961\n",
      "Epoch 39/100\n",
      "32/32 [==============================] - 14s 452ms/step - loss: 7.9412e-05 - acc: 1.0000 - val_loss: 0.0044 - val_acc: 0.9983\n",
      "Epoch 40/100\n",
      "32/32 [==============================] - 15s 455ms/step - loss: 5.8070e-05 - acc: 1.0000 - val_loss: 0.0052 - val_acc: 0.9973\n",
      "Epoch 41/100\n",
      "32/32 [==============================] - 15s 462ms/step - loss: 5.8011e-05 - acc: 1.0000 - val_loss: 0.0055 - val_acc: 0.9971\n",
      "Epoch 42/100\n",
      "32/32 [==============================] - 15s 458ms/step - loss: 6.6714e-05 - acc: 1.0000 - val_loss: 0.0040 - val_acc: 0.9987\n",
      "Epoch 43/100\n",
      "32/32 [==============================] - 15s 459ms/step - loss: 6.1253e-05 - acc: 1.0000 - val_loss: 0.0052 - val_acc: 0.9980\n",
      "Epoch 44/100\n",
      "32/32 [==============================] - 15s 454ms/step - loss: 5.1065e-05 - acc: 1.0000 - val_loss: 0.0063 - val_acc: 0.9961\n",
      "Epoch 45/100\n",
      "32/32 [==============================] - 14s 450ms/step - loss: 4.8586e-05 - acc: 1.0000 - val_loss: 0.0053 - val_acc: 0.9971\n",
      "Epoch 46/100\n",
      "32/32 [==============================] - 14s 452ms/step - loss: 6.2135e-05 - acc: 1.0000 - val_loss: 0.0038 - val_acc: 0.9987\n",
      "Epoch 47/100\n",
      "32/32 [==============================] - 14s 451ms/step - loss: 4.5241e-05 - acc: 1.0000 - val_loss: 0.0053 - val_acc: 0.9960\n",
      "Epoch 48/100\n",
      "32/32 [==============================] - 14s 452ms/step - loss: 4.6936e-05 - acc: 1.0000 - val_loss: 0.0057 - val_acc: 0.9963\n",
      "Epoch 49/100\n",
      "32/32 [==============================] - 14s 452ms/step - loss: 4.2377e-05 - acc: 1.0000 - val_loss: 0.0050 - val_acc: 0.9977\n",
      "Epoch 50/100\n",
      "32/32 [==============================] - 15s 457ms/step - loss: 3.6335e-05 - acc: 1.0000 - val_loss: 0.0045 - val_acc: 0.9981\n",
      "Epoch 51/100\n",
      "32/32 [==============================] - 15s 458ms/step - loss: 4.3751e-05 - acc: 1.0000 - val_loss: 0.0045 - val_acc: 0.9980\n",
      "Epoch 52/100\n",
      "32/32 [==============================] - 15s 464ms/step - loss: 3.9588e-05 - acc: 1.0000 - val_loss: 0.0062 - val_acc: 0.9963\n",
      "Epoch 53/100\n",
      "32/32 [==============================] - 14s 450ms/step - loss: 3.6158e-05 - acc: 1.0000 - val_loss: 0.0045 - val_acc: 0.9979\n",
      "Epoch 54/100\n",
      "32/32 [==============================] - 14s 451ms/step - loss: 3.5903e-05 - acc: 1.0000 - val_loss: 0.0048 - val_acc: 0.9980\n",
      "Epoch 55/100\n",
      "32/32 [==============================] - 15s 453ms/step - loss: 3.0467e-05 - acc: 1.0000 - val_loss: 0.0063 - val_acc: 0.9962\n",
      "Epoch 56/100\n",
      "32/32 [==============================] - 15s 461ms/step - loss: 3.1750e-05 - acc: 1.0000 - val_loss: 0.0037 - val_acc: 0.9988\n",
      "Epoch 57/100\n",
      "32/32 [==============================] - 15s 474ms/step - loss: 3.2672e-05 - acc: 1.0000 - val_loss: 0.0056 - val_acc: 0.9961\n",
      "Epoch 58/100\n",
      "32/32 [==============================] - 15s 477ms/step - loss: 3.0020e-05 - acc: 1.0000 - val_loss: 0.0049 - val_acc: 0.9977\n",
      "Epoch 59/100\n",
      "32/32 [==============================] - 15s 471ms/step - loss: 2.7748e-05 - acc: 1.0000 - val_loss: 0.0059 - val_acc: 0.9961\n",
      "Epoch 60/100\n"
     ]
    },
    {
     "name": "stdout",
     "output_type": "stream",
     "text": [
      "32/32 [==============================] - 15s 474ms/step - loss: 3.3678e-05 - acc: 1.0000 - val_loss: 0.0044 - val_acc: 0.9977\n",
      "Epoch 61/100\n",
      "32/32 [==============================] - 15s 483ms/step - loss: 2.5914e-05 - acc: 1.0000 - val_loss: 0.0057 - val_acc: 0.9960\n",
      "Epoch 62/100\n",
      "32/32 [==============================] - 15s 461ms/step - loss: 3.0106e-05 - acc: 1.0000 - val_loss: 0.0042 - val_acc: 0.9981\n",
      "Epoch 63/100\n",
      "32/32 [==============================] - 15s 467ms/step - loss: 2.3368e-05 - acc: 1.0000 - val_loss: 0.0046 - val_acc: 0.9963\n",
      "Epoch 64/100\n",
      "32/32 [==============================] - 15s 467ms/step - loss: 2.6043e-05 - acc: 1.0000 - val_loss: 0.0052 - val_acc: 0.9962\n",
      "Epoch 65/100\n",
      "32/32 [==============================] - 15s 469ms/step - loss: 2.2118e-05 - acc: 1.0000 - val_loss: 0.0041 - val_acc: 0.9964\n",
      "Epoch 66/100\n",
      "32/32 [==============================] - 15s 462ms/step - loss: 2.3052e-05 - acc: 1.0000 - val_loss: 0.0049 - val_acc: 0.9961\n",
      "Epoch 67/100\n",
      "32/32 [==============================] - 15s 455ms/step - loss: 2.2118e-05 - acc: 1.0000 - val_loss: 0.0054 - val_acc: 0.9961\n",
      "Epoch 68/100\n",
      "32/32 [==============================] - 15s 464ms/step - loss: 2.0543e-05 - acc: 1.0000 - val_loss: 0.0047 - val_acc: 0.9963\n",
      "Epoch 69/100\n",
      "32/32 [==============================] - 15s 459ms/step - loss: 1.9742e-05 - acc: 1.0000 - val_loss: 0.0054 - val_acc: 0.9960\n",
      "Epoch 70/100\n",
      "32/32 [==============================] - 14s 448ms/step - loss: 1.9482e-05 - acc: 1.0000 - val_loss: 0.0043 - val_acc: 0.9963\n",
      "Epoch 71/100\n",
      "32/32 [==============================] - 14s 447ms/step - loss: 2.0088e-05 - acc: 1.0000 - val_loss: 0.0048 - val_acc: 0.9960\n",
      "Epoch 72/100\n",
      "32/32 [==============================] - 14s 449ms/step - loss: 1.9363e-05 - acc: 1.0000 - val_loss: 0.0045 - val_acc: 0.9963\n",
      "Epoch 73/100\n",
      "32/32 [==============================] - 14s 451ms/step - loss: 1.7380e-05 - acc: 1.0000 - val_loss: 0.0048 - val_acc: 0.9962\n",
      "Epoch 74/100\n",
      "32/32 [==============================] - 14s 450ms/step - loss: 1.6121e-05 - acc: 1.0000 - val_loss: 0.0056 - val_acc: 0.9961\n",
      "Epoch 75/100\n",
      "32/32 [==============================] - 15s 454ms/step - loss: 1.8495e-05 - acc: 1.0000 - val_loss: 0.0040 - val_acc: 0.9963\n",
      "Epoch 76/100\n",
      "32/32 [==============================] - 14s 446ms/step - loss: 1.4886e-05 - acc: 1.0000 - val_loss: 0.0048 - val_acc: 0.9961\n",
      "Epoch 77/100\n",
      "32/32 [==============================] - 14s 447ms/step - loss: 1.4498e-05 - acc: 1.0000 - val_loss: 0.0045 - val_acc: 0.9961\n",
      "Epoch 78/100\n",
      "32/32 [==============================] - 15s 454ms/step - loss: 1.7114e-05 - acc: 1.0000 - val_loss: 0.0054 - val_acc: 0.9963\n",
      "Epoch 79/100\n",
      "32/32 [==============================] - 14s 451ms/step - loss: 1.5681e-05 - acc: 1.0000 - val_loss: 0.0044 - val_acc: 0.9961\n",
      "Epoch 80/100\n",
      "32/32 [==============================] - 15s 457ms/step - loss: 1.3098e-05 - acc: 1.0000 - val_loss: 0.0047 - val_acc: 0.9961\n",
      "Epoch 81/100\n",
      "32/32 [==============================] - 15s 454ms/step - loss: 1.4715e-05 - acc: 1.0000 - val_loss: 0.0046 - val_acc: 0.9961\n",
      "Epoch 82/100\n",
      "32/32 [==============================] - 15s 454ms/step - loss: 1.2705e-05 - acc: 1.0000 - val_loss: 0.0057 - val_acc: 0.9962\n",
      "Epoch 83/100\n",
      "32/32 [==============================] - 15s 455ms/step - loss: 1.1229e-05 - acc: 1.0000 - val_loss: 0.0043 - val_acc: 0.9963\n",
      "Epoch 84/100\n",
      "32/32 [==============================] - 15s 457ms/step - loss: 1.3324e-05 - acc: 1.0000 - val_loss: 0.0051 - val_acc: 0.9960\n",
      "Epoch 85/100\n",
      "32/32 [==============================] - 14s 451ms/step - loss: 1.6678e-05 - acc: 1.0000 - val_loss: 0.0066 - val_acc: 0.9961\n",
      "Epoch 86/100\n",
      "32/32 [==============================] - 14s 451ms/step - loss: 1.2593e-05 - acc: 1.0000 - val_loss: 0.0042 - val_acc: 0.9963\n",
      "Epoch 87/100\n",
      "32/32 [==============================] - 15s 465ms/step - loss: 1.1361e-05 - acc: 1.0000 - val_loss: 0.0043 - val_acc: 0.9971\n",
      "Epoch 88/100\n",
      "32/32 [==============================] - 15s 454ms/step - loss: 8.9882e-06 - acc: 1.0000 - val_loss: 0.0048 - val_acc: 0.9961\n",
      "Epoch 89/100\n",
      "32/32 [==============================] - 15s 460ms/step - loss: 1.4180e-05 - acc: 1.0000 - val_loss: 0.0041 - val_acc: 0.9976\n",
      "Epoch 90/100\n",
      "32/32 [==============================] - 15s 455ms/step - loss: 1.0820e-05 - acc: 1.0000 - val_loss: 0.0045 - val_acc: 0.9961\n",
      "Epoch 91/100\n",
      "32/32 [==============================] - 15s 462ms/step - loss: 8.5244e-06 - acc: 1.0000 - val_loss: 0.0050 - val_acc: 0.9962\n",
      "Epoch 92/100\n",
      "32/32 [==============================] - 15s 459ms/step - loss: 9.9530e-06 - acc: 1.0000 - val_loss: 0.0048 - val_acc: 0.9961\n",
      "Epoch 93/100\n",
      "32/32 [==============================] - 15s 459ms/step - loss: 9.1574e-06 - acc: 1.0000 - val_loss: 0.0045 - val_acc: 0.9961\n",
      "Epoch 94/100\n",
      "32/32 [==============================] - 15s 459ms/step - loss: 8.9062e-06 - acc: 1.0000 - val_loss: 0.0050 - val_acc: 0.9963\n",
      "Epoch 95/100\n",
      "32/32 [==============================] - 15s 458ms/step - loss: 8.3140e-06 - acc: 1.0000 - val_loss: 0.0043 - val_acc: 0.9961\n",
      "Epoch 96/100\n",
      "32/32 [==============================] - 15s 466ms/step - loss: 9.4767e-06 - acc: 1.0000 - val_loss: 0.0053 - val_acc: 0.9960\n",
      "Epoch 97/100\n",
      "32/32 [==============================] - 15s 456ms/step - loss: 8.1926e-06 - acc: 1.0000 - val_loss: 0.0039 - val_acc: 0.9971\n",
      "Epoch 98/100\n",
      "32/32 [==============================] - 15s 454ms/step - loss: 8.7042e-06 - acc: 1.0000 - val_loss: 0.0051 - val_acc: 0.9961\n",
      "Epoch 99/100\n",
      "32/32 [==============================] - 14s 450ms/step - loss: 8.8113e-06 - acc: 1.0000 - val_loss: 0.0048 - val_acc: 0.9961\n",
      "Epoch 100/100\n",
      "32/32 [==============================] - 15s 456ms/step - loss: 8.5092e-06 - acc: 1.0000 - val_loss: 0.0050 - val_acc: 0.9962\n"
     ]
    },
    {
     "data": {
      "text/plain": [
       "<keras.callbacks.History at 0x4748c71e10>"
      ]
     },
     "execution_count": 13,
     "metadata": {},
     "output_type": "execute_result"
    }
   ],
   "source": [
    "model.fit_generator(x_train, samples_per_epoch = 1040, epochs = 100, validation_data = x_test, nb_val_samples = 260)"
   ]
  },
  {
   "cell_type": "code",
   "execution_count": 14,
   "metadata": {},
   "outputs": [],
   "source": [
    "model.save('CNN_Final1.h5')"
   ]
  },
  {
   "cell_type": "code",
   "execution_count": null,
   "metadata": {},
   "outputs": [],
   "source": []
  }
 ],
 "metadata": {
  "kernelspec": {
   "display_name": "Python 3",
   "language": "python",
   "name": "python3"
  },
  "language_info": {
   "codemirror_mode": {
    "name": "ipython",
    "version": 3
   },
   "file_extension": ".py",
   "mimetype": "text/x-python",
   "name": "python",
   "nbconvert_exporter": "python",
   "pygments_lexer": "ipython3",
   "version": "3.7.3"
  }
 },
 "nbformat": 4,
 "nbformat_minor": 2
}
