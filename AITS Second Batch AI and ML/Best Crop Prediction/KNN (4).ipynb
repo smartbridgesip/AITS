{
 "cells": [
  {
   "cell_type": "code",
   "execution_count": 1,
   "metadata": {},
   "outputs": [],
   "source": [
    "#importing the libraries\n",
    "import numpy as np\n",
    "import matplotlib.pyplot as plt\n",
    "import pandas as pd"
   ]
  },
  {
   "cell_type": "code",
   "execution_count": 2,
   "metadata": {},
   "outputs": [
    {
     "data": {
      "text/html": [
       "<div>\n",
       "<style scoped>\n",
       "    .dataframe tbody tr th:only-of-type {\n",
       "        vertical-align: middle;\n",
       "    }\n",
       "\n",
       "    .dataframe tbody tr th {\n",
       "        vertical-align: top;\n",
       "    }\n",
       "\n",
       "    .dataframe thead th {\n",
       "        text-align: right;\n",
       "    }\n",
       "</style>\n",
       "<table border=\"1\" class=\"dataframe\">\n",
       "  <thead>\n",
       "    <tr style=\"text-align: right;\">\n",
       "      <th></th>\n",
       "      <th>Cost of Cultivation (`/Hectare) A2+FL</th>\n",
       "      <th>Cost of Cultivation (`/Hectare) C2</th>\n",
       "      <th>Cost of Production (`/Quintal) C2</th>\n",
       "      <th>Yield (Quintal/ Hectare)</th>\n",
       "      <th>rainfall</th>\n",
       "      <th>Crop</th>\n",
       "    </tr>\n",
       "  </thead>\n",
       "  <tbody>\n",
       "    <tr>\n",
       "      <th>0</th>\n",
       "      <td>9794.05</td>\n",
       "      <td>23076.74</td>\n",
       "      <td>1941.55</td>\n",
       "      <td>9.83</td>\n",
       "      <td>20</td>\n",
       "      <td>ARHAR</td>\n",
       "    </tr>\n",
       "    <tr>\n",
       "      <th>1</th>\n",
       "      <td>10593.15</td>\n",
       "      <td>16528.68</td>\n",
       "      <td>2172.46</td>\n",
       "      <td>7.47</td>\n",
       "      <td>23</td>\n",
       "      <td>ARHAR</td>\n",
       "    </tr>\n",
       "    <tr>\n",
       "      <th>2</th>\n",
       "      <td>13468.82</td>\n",
       "      <td>19551.90</td>\n",
       "      <td>1898.30</td>\n",
       "      <td>9.59</td>\n",
       "      <td>86</td>\n",
       "      <td>ARHAR</td>\n",
       "    </tr>\n",
       "    <tr>\n",
       "      <th>3</th>\n",
       "      <td>17051.66</td>\n",
       "      <td>24171.65</td>\n",
       "      <td>3670.54</td>\n",
       "      <td>6.42</td>\n",
       "      <td>48</td>\n",
       "      <td>ARHAR</td>\n",
       "    </tr>\n",
       "    <tr>\n",
       "      <th>4</th>\n",
       "      <td>17130.55</td>\n",
       "      <td>25270.26</td>\n",
       "      <td>2775.80</td>\n",
       "      <td>8.72</td>\n",
       "      <td>24</td>\n",
       "      <td>ARHAR</td>\n",
       "    </tr>\n",
       "    <tr>\n",
       "      <th>5</th>\n",
       "      <td>23711.44</td>\n",
       "      <td>33116.82</td>\n",
       "      <td>2539.47</td>\n",
       "      <td>12.69</td>\n",
       "      <td>68</td>\n",
       "      <td>COTTON</td>\n",
       "    </tr>\n",
       "    <tr>\n",
       "      <th>6</th>\n",
       "      <td>29047.10</td>\n",
       "      <td>50828.83</td>\n",
       "      <td>2003.76</td>\n",
       "      <td>24.39</td>\n",
       "      <td>42</td>\n",
       "      <td>COTTON</td>\n",
       "    </tr>\n",
       "    <tr>\n",
       "      <th>7</th>\n",
       "      <td>29140.77</td>\n",
       "      <td>44756.72</td>\n",
       "      <td>2509.99</td>\n",
       "      <td>17.83</td>\n",
       "      <td>52</td>\n",
       "      <td>COTTON</td>\n",
       "    </tr>\n",
       "    <tr>\n",
       "      <th>8</th>\n",
       "      <td>29616.09</td>\n",
       "      <td>42070.44</td>\n",
       "      <td>2179.26</td>\n",
       "      <td>19.05</td>\n",
       "      <td>58</td>\n",
       "      <td>COTTON</td>\n",
       "    </tr>\n",
       "    <tr>\n",
       "      <th>9</th>\n",
       "      <td>29918.97</td>\n",
       "      <td>44018.18</td>\n",
       "      <td>2127.35</td>\n",
       "      <td>19.90</td>\n",
       "      <td>63</td>\n",
       "      <td>COTTON</td>\n",
       "    </tr>\n",
       "    <tr>\n",
       "      <th>10</th>\n",
       "      <td>8552.69</td>\n",
       "      <td>12610.85</td>\n",
       "      <td>1691.66</td>\n",
       "      <td>6.83</td>\n",
       "      <td>25</td>\n",
       "      <td>GRAM</td>\n",
       "    </tr>\n",
       "    <tr>\n",
       "      <th>11</th>\n",
       "      <td>9803.89</td>\n",
       "      <td>16873.17</td>\n",
       "      <td>1551.94</td>\n",
       "      <td>10.29</td>\n",
       "      <td>87</td>\n",
       "      <td>GRAM</td>\n",
       "    </tr>\n",
       "    <tr>\n",
       "      <th>12</th>\n",
       "      <td>12833.04</td>\n",
       "      <td>21618.43</td>\n",
       "      <td>1882.68</td>\n",
       "      <td>10.93</td>\n",
       "      <td>52</td>\n",
       "      <td>GRAM</td>\n",
       "    </tr>\n",
       "    <tr>\n",
       "      <th>13</th>\n",
       "      <td>12985.95</td>\n",
       "      <td>18679.33</td>\n",
       "      <td>2277.68</td>\n",
       "      <td>8.05</td>\n",
       "      <td>65</td>\n",
       "      <td>GRAM</td>\n",
       "    </tr>\n",
       "    <tr>\n",
       "      <th>14</th>\n",
       "      <td>14421.98</td>\n",
       "      <td>26762.09</td>\n",
       "      <td>1559.04</td>\n",
       "      <td>16.69</td>\n",
       "      <td>75</td>\n",
       "      <td>GRAM</td>\n",
       "    </tr>\n",
       "    <tr>\n",
       "      <th>15</th>\n",
       "      <td>13647.10</td>\n",
       "      <td>17314.20</td>\n",
       "      <td>3484.01</td>\n",
       "      <td>4.71</td>\n",
       "      <td>43</td>\n",
       "      <td>GROUNDNUT</td>\n",
       "    </tr>\n",
       "    <tr>\n",
       "      <th>16</th>\n",
       "      <td>21229.01</td>\n",
       "      <td>30434.61</td>\n",
       "      <td>2554.91</td>\n",
       "      <td>11.97</td>\n",
       "      <td>82</td>\n",
       "      <td>GROUNDNUT</td>\n",
       "    </tr>\n",
       "    <tr>\n",
       "      <th>17</th>\n",
       "      <td>22507.86</td>\n",
       "      <td>30393.66</td>\n",
       "      <td>2358.00</td>\n",
       "      <td>11.98</td>\n",
       "      <td>62</td>\n",
       "      <td>GROUNDNUT</td>\n",
       "    </tr>\n",
       "    <tr>\n",
       "      <th>18</th>\n",
       "      <td>22951.28</td>\n",
       "      <td>30114.45</td>\n",
       "      <td>1918.92</td>\n",
       "      <td>13.45</td>\n",
       "      <td>42</td>\n",
       "      <td>GROUNDNUT</td>\n",
       "    </tr>\n",
       "  </tbody>\n",
       "</table>\n",
       "</div>"
      ],
      "text/plain": [
       "    Cost of Cultivation (`/Hectare) A2+FL  Cost of Cultivation (`/Hectare) C2  \\\n",
       "0                                 9794.05                            23076.74   \n",
       "1                                10593.15                            16528.68   \n",
       "2                                13468.82                            19551.90   \n",
       "3                                17051.66                            24171.65   \n",
       "4                                17130.55                            25270.26   \n",
       "5                                23711.44                            33116.82   \n",
       "6                                29047.10                            50828.83   \n",
       "7                                29140.77                            44756.72   \n",
       "8                                29616.09                            42070.44   \n",
       "9                                29918.97                            44018.18   \n",
       "10                                8552.69                            12610.85   \n",
       "11                                9803.89                            16873.17   \n",
       "12                               12833.04                            21618.43   \n",
       "13                               12985.95                            18679.33   \n",
       "14                               14421.98                            26762.09   \n",
       "15                               13647.10                            17314.20   \n",
       "16                               21229.01                            30434.61   \n",
       "17                               22507.86                            30393.66   \n",
       "18                               22951.28                            30114.45   \n",
       "\n",
       "    Cost of Production (`/Quintal) C2  Yield (Quintal/ Hectare)   rainfall  \\\n",
       "0                             1941.55                       9.83        20   \n",
       "1                             2172.46                       7.47        23   \n",
       "2                             1898.30                       9.59        86   \n",
       "3                             3670.54                       6.42        48   \n",
       "4                             2775.80                       8.72        24   \n",
       "5                             2539.47                      12.69        68   \n",
       "6                             2003.76                      24.39        42   \n",
       "7                             2509.99                      17.83        52   \n",
       "8                             2179.26                      19.05        58   \n",
       "9                             2127.35                      19.90        63   \n",
       "10                            1691.66                       6.83        25   \n",
       "11                            1551.94                      10.29        87   \n",
       "12                            1882.68                      10.93        52   \n",
       "13                            2277.68                       8.05        65   \n",
       "14                            1559.04                      16.69        75   \n",
       "15                            3484.01                       4.71        43   \n",
       "16                            2554.91                      11.97        82   \n",
       "17                            2358.00                      11.98        62   \n",
       "18                            1918.92                      13.45        42   \n",
       "\n",
       "         Crop  \n",
       "0       ARHAR  \n",
       "1       ARHAR  \n",
       "2       ARHAR  \n",
       "3       ARHAR  \n",
       "4       ARHAR  \n",
       "5      COTTON  \n",
       "6      COTTON  \n",
       "7      COTTON  \n",
       "8      COTTON  \n",
       "9      COTTON  \n",
       "10       GRAM  \n",
       "11       GRAM  \n",
       "12       GRAM  \n",
       "13       GRAM  \n",
       "14       GRAM  \n",
       "15  GROUNDNUT  \n",
       "16  GROUNDNUT  \n",
       "17  GROUNDNUT  \n",
       "18  GROUNDNUT  "
      ]
     },
     "execution_count": 2,
     "metadata": {},
     "output_type": "execute_result"
    }
   ],
   "source": [
    "#importing the dataset\n",
    "dataset=pd.read_csv('dataf.csv')\n",
    "dataset\n"
   ]
  },
  {
   "cell_type": "code",
   "execution_count": 3,
   "metadata": {},
   "outputs": [
    {
     "data": {
      "text/plain": [
       "array([[9.794050e+03, 2.307674e+04, 1.941550e+03, 9.830000e+00,\n",
       "        2.000000e+01],\n",
       "       [1.059315e+04, 1.652868e+04, 2.172460e+03, 7.470000e+00,\n",
       "        2.300000e+01],\n",
       "       [1.346882e+04, 1.955190e+04, 1.898300e+03, 9.590000e+00,\n",
       "        8.600000e+01],\n",
       "       [1.705166e+04, 2.417165e+04, 3.670540e+03, 6.420000e+00,\n",
       "        4.800000e+01],\n",
       "       [1.713055e+04, 2.527026e+04, 2.775800e+03, 8.720000e+00,\n",
       "        2.400000e+01],\n",
       "       [2.371144e+04, 3.311682e+04, 2.539470e+03, 1.269000e+01,\n",
       "        6.800000e+01],\n",
       "       [2.904710e+04, 5.082883e+04, 2.003760e+03, 2.439000e+01,\n",
       "        4.200000e+01],\n",
       "       [2.914077e+04, 4.475672e+04, 2.509990e+03, 1.783000e+01,\n",
       "        5.200000e+01],\n",
       "       [2.961609e+04, 4.207044e+04, 2.179260e+03, 1.905000e+01,\n",
       "        5.800000e+01],\n",
       "       [2.991897e+04, 4.401818e+04, 2.127350e+03, 1.990000e+01,\n",
       "        6.300000e+01],\n",
       "       [8.552690e+03, 1.261085e+04, 1.691660e+03, 6.830000e+00,\n",
       "        2.500000e+01],\n",
       "       [9.803890e+03, 1.687317e+04, 1.551940e+03, 1.029000e+01,\n",
       "        8.700000e+01],\n",
       "       [1.283304e+04, 2.161843e+04, 1.882680e+03, 1.093000e+01,\n",
       "        5.200000e+01],\n",
       "       [1.298595e+04, 1.867933e+04, 2.277680e+03, 8.050000e+00,\n",
       "        6.500000e+01],\n",
       "       [1.442198e+04, 2.676209e+04, 1.559040e+03, 1.669000e+01,\n",
       "        7.500000e+01],\n",
       "       [1.364710e+04, 1.731420e+04, 3.484010e+03, 4.710000e+00,\n",
       "        4.300000e+01],\n",
       "       [2.122901e+04, 3.043461e+04, 2.554910e+03, 1.197000e+01,\n",
       "        8.200000e+01],\n",
       "       [2.250786e+04, 3.039366e+04, 2.358000e+03, 1.198000e+01,\n",
       "        6.200000e+01],\n",
       "       [2.295128e+04, 3.011445e+04, 1.918920e+03, 1.345000e+01,\n",
       "        4.200000e+01]])"
      ]
     },
     "execution_count": 3,
     "metadata": {},
     "output_type": "execute_result"
    }
   ],
   "source": [
    "x=dataset.iloc[:,0:-1].values\n",
    "x"
   ]
  },
  {
   "cell_type": "code",
   "execution_count": 4,
   "metadata": {},
   "outputs": [
    {
     "data": {
      "text/plain": [
       "array([['ARHAR'],\n",
       "       ['ARHAR'],\n",
       "       ['ARHAR'],\n",
       "       ['ARHAR'],\n",
       "       ['ARHAR'],\n",
       "       ['COTTON'],\n",
       "       ['COTTON'],\n",
       "       ['COTTON'],\n",
       "       ['COTTON'],\n",
       "       ['COTTON'],\n",
       "       ['GRAM'],\n",
       "       ['GRAM'],\n",
       "       ['GRAM'],\n",
       "       ['GRAM'],\n",
       "       ['GRAM'],\n",
       "       ['GROUNDNUT'],\n",
       "       ['GROUNDNUT'],\n",
       "       ['GROUNDNUT'],\n",
       "       ['GROUNDNUT']], dtype=object)"
      ]
     },
     "execution_count": 4,
     "metadata": {},
     "output_type": "execute_result"
    }
   ],
   "source": [
    "y=dataset.iloc[:,5:].values\n",
    "y"
   ]
  },
  {
   "cell_type": "code",
   "execution_count": 5,
   "metadata": {},
   "outputs": [
    {
     "name": "stderr",
     "output_type": "stream",
     "text": [
      "C:\\anaconda88\\lib\\site-packages\\sklearn\\preprocessing\\label.py:235: DataConversionWarning: A column-vector y was passed when a 1d array was expected. Please change the shape of y to (n_samples, ), for example using ravel().\n",
      "  y = column_or_1d(y, warn=True)\n"
     ]
    }
   ],
   "source": [
    "from sklearn.preprocessing import LabelEncoder\n",
    "lb1 = LabelEncoder()\n",
    "y = lb1.fit_transform(y)"
   ]
  },
  {
   "cell_type": "code",
   "execution_count": 6,
   "metadata": {},
   "outputs": [
    {
     "data": {
      "text/plain": [
       "array([0, 0, 0, 0, 0, 1, 1, 1, 1, 1, 2, 2, 2, 2, 2, 3, 3, 3, 3])"
      ]
     },
     "execution_count": 6,
     "metadata": {},
     "output_type": "execute_result"
    }
   ],
   "source": [
    "y"
   ]
  },
  {
   "cell_type": "code",
   "execution_count": 7,
   "metadata": {},
   "outputs": [],
   "source": [
    "#splitting the dataset into the training set and test set\n",
    "from sklearn.model_selection import train_test_split\n",
    "x_train,x_test,y_train,y_test=train_test_split(x,y,test_size=0.2,random_state=0)\n",
    "\n"
   ]
  },
  {
   "cell_type": "code",
   "execution_count": 8,
   "metadata": {
    "scrolled": true
   },
   "outputs": [
    {
     "data": {
      "text/plain": [
       "array([[8.552690e+03, 1.261085e+04, 1.691660e+03, 6.830000e+00,\n",
       "        2.500000e+01],\n",
       "       [1.059315e+04, 1.652868e+04, 2.172460e+03, 7.470000e+00,\n",
       "        2.300000e+01],\n",
       "       [2.961609e+04, 4.207044e+04, 2.179260e+03, 1.905000e+01,\n",
       "        5.800000e+01],\n",
       "       [2.295128e+04, 3.011445e+04, 1.918920e+03, 1.345000e+01,\n",
       "        4.200000e+01]])"
      ]
     },
     "execution_count": 8,
     "metadata": {},
     "output_type": "execute_result"
    }
   ],
   "source": [
    "x_test"
   ]
  },
  {
   "cell_type": "code",
   "execution_count": 9,
   "metadata": {},
   "outputs": [],
   "source": [
    "from sklearn.preprocessing import StandardScaler\n",
    "sc= StandardScaler()\n",
    "x_train=sc.fit_transform(x_train)\n",
    "x_test=sc.transform(x_test)"
   ]
  },
  {
   "cell_type": "code",
   "execution_count": 10,
   "metadata": {},
   "outputs": [
    {
     "data": {
      "text/plain": [
       "array([[-1.45988731, -1.54500033, -1.09050956, -1.05724537, -1.65594758],\n",
       "       [-1.15879519, -1.16303035, -0.28470441, -0.93277204, -1.7565112 ],\n",
       "       [ 1.64824704,  1.32717095, -0.27330783,  1.31941733,  0.00335212],\n",
       "       [ 0.66478165,  0.16151824, -0.7096292 ,  0.23027567, -0.80115683]])"
      ]
     },
     "execution_count": 10,
     "metadata": {},
     "output_type": "execute_result"
    }
   ],
   "source": [
    "x_test"
   ]
  },
  {
   "cell_type": "code",
   "execution_count": 18,
   "metadata": {},
   "outputs": [
    {
     "ename": "ImportError",
     "evalue": "cannot import name 'KNeighborClassifier' from 'sklearn.neighbors' (C:\\anaconda88\\lib\\site-packages\\sklearn\\neighbors\\__init__.py)",
     "output_type": "error",
     "traceback": [
      "\u001b[1;31m---------------------------------------------------------------------------\u001b[0m",
      "\u001b[1;31mImportError\u001b[0m                               Traceback (most recent call last)",
      "\u001b[1;32m<ipython-input-18-613e1ef70d2e>\u001b[0m in \u001b[0;36m<module>\u001b[1;34m\u001b[0m\n\u001b[0;32m      1\u001b[0m \u001b[1;31m#fitting knn to the training set\u001b[0m\u001b[1;33m\u001b[0m\u001b[1;33m\u001b[0m\u001b[1;33m\u001b[0m\u001b[0m\n\u001b[1;32m----> 2\u001b[1;33m \u001b[1;32mfrom\u001b[0m \u001b[0msklearn\u001b[0m\u001b[1;33m.\u001b[0m\u001b[0mneighbors\u001b[0m \u001b[1;32mimport\u001b[0m \u001b[0mKNeighborClassifier\u001b[0m\u001b[1;33m\u001b[0m\u001b[1;33m\u001b[0m\u001b[0m\n\u001b[0m\u001b[0;32m      3\u001b[0m \u001b[0mclassifier\u001b[0m\u001b[1;33m=\u001b[0m\u001b[0mKNeighborClassifier\u001b[0m\u001b[1;33m(\u001b[0m\u001b[0mn_neighbors\u001b[0m\u001b[1;33m=\u001b[0m\u001b[1;36m5\u001b[0m\u001b[1;33m,\u001b[0m\u001b[0mmetric\u001b[0m\u001b[1;33m=\u001b[0m\u001b[1;34m'minkowski'\u001b[0m\u001b[1;33m,\u001b[0m\u001b[0mp\u001b[0m\u001b[1;33m=\u001b[0m\u001b[1;36m2\u001b[0m\u001b[1;33m)\u001b[0m\u001b[1;33m\u001b[0m\u001b[1;33m\u001b[0m\u001b[0m\n\u001b[0;32m      4\u001b[0m \u001b[0mclassifier\u001b[0m\u001b[1;33m.\u001b[0m\u001b[0mfit\u001b[0m\u001b[1;33m(\u001b[0m\u001b[0mx_train\u001b[0m\u001b[1;33m,\u001b[0m\u001b[0my_train\u001b[0m\u001b[1;33m)\u001b[0m\u001b[1;33m\u001b[0m\u001b[1;33m\u001b[0m\u001b[0m\n",
      "\u001b[1;31mImportError\u001b[0m: cannot import name 'KNeighborClassifier' from 'sklearn.neighbors' (C:\\anaconda88\\lib\\site-packages\\sklearn\\neighbors\\__init__.py)"
     ]
    }
   ],
   "source": [
    "#fitting knn to the training set\n",
    "from sklearn.neighbors import KNeighborClassifier\n",
    "classifier=KNeighborClassifier(n_neighbors=5,metric='minkowski',p=2)\n",
    "classifier.fit(x_train,y_train)"
   ]
  },
  {
   "cell_type": "code",
   "execution_count": 12,
   "metadata": {},
   "outputs": [
    {
     "data": {
      "text/plain": [
       "array([0, 0, 1, 3])"
      ]
     },
     "execution_count": 12,
     "metadata": {},
     "output_type": "execute_result"
    }
   ],
   "source": [
    "#predicting the test set resultsy_pred\n",
    "y_pred=classifier.predict(x_test)\n",
    "y_pred"
   ]
  },
  {
   "cell_type": "code",
   "execution_count": 13,
   "metadata": {},
   "outputs": [
    {
     "data": {
      "text/plain": [
       "array([[1, 0, 0, 0],\n",
       "       [0, 1, 0, 0],\n",
       "       [1, 0, 0, 0],\n",
       "       [0, 0, 0, 1]], dtype=int64)"
      ]
     },
     "execution_count": 13,
     "metadata": {},
     "output_type": "execute_result"
    }
   ],
   "source": [
    "\n",
    "from sklearn.metrics import confusion_matrix\n",
    "cm=confusion_matrix(y_test,y_pred)\n",
    "cm"
   ]
  },
  {
   "cell_type": "code",
   "execution_count": 14,
   "metadata": {},
   "outputs": [
    {
     "data": {
      "text/plain": [
       "0.75"
      ]
     },
     "execution_count": 14,
     "metadata": {},
     "output_type": "execute_result"
    }
   ],
   "source": [
    "from sklearn.metrics import accuracy_score\n",
    "accuracy_score(y_test,y_pred)"
   ]
  },
  {
   "cell_type": "code",
   "execution_count": 15,
   "metadata": {},
   "outputs": [
    {
     "data": {
      "text/plain": [
       "array([3])"
      ]
     },
     "execution_count": 15,
     "metadata": {},
     "output_type": "execute_result"
    }
   ],
   "source": [
    "classifier.predict(np.array([[0.66478165,  0.16151824, -0.7096292 ,  0.23027567, -0.80115683]]))"
   ]
  },
  {
   "cell_type": "code",
   "execution_count": null,
   "metadata": {},
   "outputs": [],
   "source": []
  }
 ],
 "metadata": {
  "kernelspec": {
   "display_name": "Python 3",
   "language": "python",
   "name": "python3"
  },
  "language_info": {
   "codemirror_mode": {
    "name": "ipython",
    "version": 3
   },
   "file_extension": ".py",
   "mimetype": "text/x-python",
   "name": "python",
   "nbconvert_exporter": "python",
   "pygments_lexer": "ipython3",
   "version": "3.7.1"
  }
 },
 "nbformat": 4,
 "nbformat_minor": 2
}
